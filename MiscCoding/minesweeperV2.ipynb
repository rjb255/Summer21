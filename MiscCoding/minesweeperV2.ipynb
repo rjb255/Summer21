{
 "cells": [
  {
   "cell_type": "markdown",
   "source": [
    "# Minesweeper Version 2\n",
    "## Library"
   ],
   "metadata": {}
  },
  {
   "cell_type": "code",
   "execution_count": 4,
   "source": [
    "import asyncio\n",
    "import matplotlib.pyplot as plt\n",
    "import numpy as np\n",
    "from numpy.random import default_rng\n",
    "from pprint import pprint\n",
    "from warnings import warn\n",
    "%reload_ext blackcellmagic"
   ],
   "outputs": [],
   "metadata": {}
  },
  {
   "cell_type": "markdown",
   "source": [
    "## Define Minesweeper"
   ],
   "metadata": {}
  },
  {
   "cell_type": "code",
   "execution_count": 2,
   "source": [
    "def newMinefield(size = np.array([15, 10]), mines = 16):\n",
    "    field: object = np.zeros(size[0]*size[1])\n",
    "    rng: object = default_rng()\n",
    "    numbers: object = rng.choice(np.product(size), size=mines, replace=False)\n",
    "    minefield: object = np.zeros(size+2) + float(\"inf\")\n",
    "    prob: object = np.array(minefield)\n",
    "\n",
    "    field[numbers] = -9\n",
    "    field = field.reshape(size)\n",
    "    minefield[1:-1, 1:-1] = field\n",
    "    positions: object = np.array(np.where(minefield==-9))\n",
    "    for x, y in zip(*positions):\n",
    "        grid: object = minefield[x-1:x+2, y-1:y+2]\n",
    "        grid[grid != -9] -= 1\n",
    "    minefield[minefield == 0] = -float(\"inf\")\n",
    "    prob[1:-1, 1:-1] = np.ones_like(field) * mines/np.product(size)\n",
    "    return minefield, prob"
   ],
   "outputs": [],
   "metadata": {}
  },
  {
   "cell_type": "markdown",
   "source": [
    "## Basic Functions"
   ],
   "metadata": {}
  },
  {
   "cell_type": "code",
   "execution_count": 3,
   "source": [
    "def pick(field, locations):\n",
    "    x,y = locations\n",
    "    if abs(field[x,y]) != float(\"inf\"):\n",
    "        field[x,y] = abs(field[x,y])\n",
    "        if field[x, y] == 9:\n",
    "            warn(\"Mine hit\")\n",
    "    elif field[x, y] == -float(\"inf\"):\n",
    "        field[x, y] = 0\n",
    "        for i in range(-1, 2):\n",
    "            for j in range(-1, 2):                \n",
    "                pick(field, (x+i, y+j), prob)\n",
    "\n",
    "def quickPick(field):\n",
    "    inf = float('inf')\n",
    "    index = np.shape(field)\n",
    "    point = np.array([0, 0])\n",
    "    if np.size(field) == 1:\n",
    "        return point\n",
    "    if np.count_nonzero(field != -inf) == 0:\n",
    "        return np.floor_divide(index, 2)\n",
    "    if index[0] > index[1]:\n",
    "        _arr1 = field[0:-1, :]\n",
    "        _arr2 = field[1:, :]\n",
    "    else:\n",
    "        _arr1 = field[:, 0:-1]\n",
    "        _arr2 = field[:, 1:]\n",
    "    if np.count_nonzero(_arr2 == -inf) > np.count_nonzero(_arr1 == -inf):\n",
    "        if index[0] > index[1]:\n",
    "            point[0] += 1\n",
    "        else:\n",
    "            point[1] += 1\n",
    "        point += quickPick(_arr2)\n",
    "    else:\n",
    "        point += quickPick(_arr1)\n",
    "    return point"
   ],
   "outputs": [],
   "metadata": {}
  },
  {
   "cell_type": "markdown",
   "source": [
    "## Solving The Board"
   ],
   "metadata": {}
  },
  {
   "cell_type": "code",
   "execution_count": 2,
   "source": [
    "async def solver1(field, prob, mines):\n",
    "    async def check():\n",
    "        while not await quick(field, prob):\n",
    "            pass\n",
    "        return True\n",
    "    \n",
    "    async def quick(_field, _prob):\n",
    "        _prob[np.logical_and(_field < 9, _field >= 0)] = 0\n",
    "        if np.count_nonzero(_field < 0) == mines - np.count_nonzero(prob == 1):\n",
    "            return True\n",
    "        if mines - np.count_nonzero(_field == 9) == 0:\n",
    "            selection = np.where(_field<0)\n",
    "            for coords in zip(*selection):\n",
    "                pick(_field, coords)\n",
    "                return True\n",
    "        return False\n",
    "    \n",
    "    def shaddows(_field, _prob):\n",
    "        shape: tuple = np.shape(_prob)\n",
    "        trialers: list = []\n",
    "        for x in range(shape[0]):\n",
    "            for y in range(shape[1]):\n",
    "                grid = _field[x - 1 : x + 2, y - 1 : y + 2]\n",
    "                if (\n",
    "                    0 < _prob[x, y] < 1\n",
    "                    and np.count_nonzero(np.logical_and(grid >= 0, grid <= 9)) > 0\n",
    "                ):\n",
    "                    trialers.append((x, y))\n",
    "        return trialers\n",
    "\n",
    "    \n",
    "    def split(_field, _prob):\n",
    "        shape = np.array(np.shape(_field))\n",
    "        padding = np.zeros(shape+2)\n",
    "        padding[1:-1, 1:-1] = _field\n",
    "        shads = shaddows(_field, _prob)\n",
    "        loops = []\n",
    "        while len(shads) > 0:\n",
    "            loops.append([shads.pop()])\n",
    "            for i, s in enumerate(shads):\n",
    "                for x in loops[-1]:\n",
    "                    if x[0]-2 <= s[0] <= x[0]+2 and x[1]-2 <= s[1] <= x[1]+2:\n",
    "                        loops.append(shads.pop(i))\n",
    "    \n",
    "    def unos(_field, _prob):\n",
    "        \n",
    "\n",
    "    return await check()\n"
   ],
   "outputs": [],
   "metadata": {}
  },
  {
   "cell_type": "code",
   "execution_count": 68,
   "source": [
    "def mainIndex(subarray, _array, index):\n",
    "    x, y = index\n",
    "    temp = subarray[x, y]\n",
    "    frst = [x for x in zip(*np.where(_array == temp))]\n",
    "    subarray[x, y] = temp - 1\n",
    "    scnd = [x for x in zip(*np.where(_array == temp - 1))]\n",
    "    subarray[x, y] = temp\n",
    "    return list(set(frst) & set(scnd))[0]\n",
    "\n",
    "\n",
    "X = np.reshape([i % 4 + 1000 for i in range(169)], [13, 13])\n",
    "grid = X[2:8, 4:9]\n",
    "mainIndex(grid, X, (1, 2))"
   ],
   "outputs": [
    {
     "output_type": "execute_result",
     "data": {
      "text/plain": [
       "(3, 6)"
      ]
     },
     "metadata": {},
     "execution_count": 68
    }
   ],
   "metadata": {}
  },
  {
   "cell_type": "code",
   "execution_count": 76,
   "source": [
    "mines = 16\n",
    "minefield, probability = newMinefield(mines=mines)\n",
    "pick(minefield, quickPick(minefield))\n",
    "print(minefield)\n",
    "\n",
    "minefield[0, 0] = 10\n",
    "\n",
    "print(np.where(minefield == -1))"
   ],
   "outputs": [
    {
     "output_type": "error",
     "ename": "NameError",
     "evalue": "name 'newMinefield' is not defined",
     "traceback": [
      "\u001b[0;31m---------------------------------------------------------------------------\u001b[0m",
      "\u001b[0;31mNameError\u001b[0m                                 Traceback (most recent call last)",
      "\u001b[0;32m/tmp/ipykernel_20110/3449660931.py\u001b[0m in \u001b[0;36m<module>\u001b[0;34m\u001b[0m\n\u001b[1;32m      1\u001b[0m \u001b[0mmines\u001b[0m \u001b[0;34m=\u001b[0m \u001b[0;36m16\u001b[0m\u001b[0;34m\u001b[0m\u001b[0;34m\u001b[0m\u001b[0m\n\u001b[0;32m----> 2\u001b[0;31m \u001b[0mminefield\u001b[0m\u001b[0;34m,\u001b[0m \u001b[0mprobability\u001b[0m \u001b[0;34m=\u001b[0m \u001b[0mnewMinefield\u001b[0m\u001b[0;34m(\u001b[0m\u001b[0mmines\u001b[0m\u001b[0;34m=\u001b[0m\u001b[0mmines\u001b[0m\u001b[0;34m)\u001b[0m\u001b[0;34m\u001b[0m\u001b[0;34m\u001b[0m\u001b[0m\n\u001b[0m\u001b[1;32m      3\u001b[0m \u001b[0mpick\u001b[0m\u001b[0;34m(\u001b[0m\u001b[0mminefield\u001b[0m\u001b[0;34m,\u001b[0m \u001b[0mquickPick\u001b[0m\u001b[0;34m(\u001b[0m\u001b[0mminefield\u001b[0m\u001b[0;34m)\u001b[0m\u001b[0;34m)\u001b[0m\u001b[0;34m\u001b[0m\u001b[0;34m\u001b[0m\u001b[0m\n\u001b[1;32m      4\u001b[0m \u001b[0mprint\u001b[0m\u001b[0;34m(\u001b[0m\u001b[0mminefield\u001b[0m\u001b[0;34m)\u001b[0m\u001b[0;34m\u001b[0m\u001b[0;34m\u001b[0m\u001b[0m\n\u001b[1;32m      5\u001b[0m \u001b[0;34m\u001b[0m\u001b[0m\n",
      "\u001b[0;31mNameError\u001b[0m: name 'newMinefield' is not defined"
     ]
    }
   ],
   "metadata": {}
  },
  {
   "cell_type": "code",
   "execution_count": 83,
   "source": [
    "a = [[1, 2], [3, 4], [5, 6]]\n",
    "c = np.array(a)\n",
    "d = c[0,0]\n",
    "e = c[0,0]\n",
    "f = c[1,1]\n",
    "print(id(d) == id(e)) # False\n",
    "print(d.__array_interface__['data'][0] == e.__array_interface__['data'][0]) # True\n",
    "print(d.__array_interface__['data'][0] == f.__array_interface__['data'][0])"
   ],
   "outputs": [
    {
     "output_type": "stream",
     "name": "stdout",
     "text": [
      "False\n",
      "True\n",
      "True\n"
     ]
    }
   ],
   "metadata": {}
  },
  {
   "cell_type": "code",
   "execution_count": 84,
   "source": [],
   "outputs": [
    {
     "output_type": "stream",
     "name": "stdout",
     "text": [
      "140659783493488\n",
      "140659782057936\n"
     ]
    }
   ],
   "metadata": {}
  }
 ],
 "metadata": {
  "orig_nbformat": 4,
  "language_info": {
   "name": "python",
   "version": "3.9.5",
   "mimetype": "text/x-python",
   "codemirror_mode": {
    "name": "ipython",
    "version": 3
   },
   "pygments_lexer": "ipython3",
   "nbconvert_exporter": "python",
   "file_extension": ".py"
  },
  "kernelspec": {
   "name": "python3",
   "display_name": "Python 3.9.5 64-bit"
  },
  "interpreter": {
   "hash": "36cf16204b8548560b1c020c4e8fb5b57f0e4c58016f52f2d4be01e192833930"
  }
 },
 "nbformat": 4,
 "nbformat_minor": 2
}