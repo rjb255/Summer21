{
 "cells": [
  {
   "cell_type": "markdown",
   "source": [
    "# Minesweeper Version 2\n",
    "## Library"
   ],
   "metadata": {}
  },
  {
   "cell_type": "code",
   "execution_count": 10,
   "source": [
    "import numpy as np\n",
    "import matplotlib.pyplot as plt\n",
    "from numpy.random import default_rng\n",
    "from warnings import warn\n",
    "%reload_ext blackcellmagic"
   ],
   "outputs": [],
   "metadata": {}
  },
  {
   "cell_type": "markdown",
   "source": [
    "## Define Minesweeper"
   ],
   "metadata": {}
  },
  {
   "cell_type": "code",
   "execution_count": 80,
   "source": [
    "size, mines = np.array([15, 10]), 16\n",
    "\n",
    "field = np.zeros(size[0]*size[1])\n",
    "rng = default_rng()\n",
    "numbers = rng.choice(np.product(size), size=mines, replace=False)\n",
    "field[numbers] = -9\n",
    "field = field.reshape(size)\n",
    "minefield = np.zeros(size+2) + float(\"inf\")\n",
    "minefield[1:-1, 1:-1] = field\n",
    "positions = np.array(np.where(field==-9))+1\n",
    "for x, y in zip(*positions):\n",
    "    grid = minefield[x-1:x+2, y-1:y+2]\n",
    "    grid[grid != -9] -= 1\n",
    "minefield[minefield == 0] = -float(\"inf\")\n",
    "temp = np.ones_like(field) * mines/np.product(size)\n",
    "prob = np.zeros(size+2) + float(\"inf\")\n",
    "prob[1:-1, 1:-1] = temp"
   ],
   "outputs": [],
   "metadata": {}
  },
  {
   "cell_type": "markdown",
   "source": [
    "## Basic Functions"
   ],
   "metadata": {}
  },
  {
   "cell_type": "code",
   "execution_count": 87,
   "source": [
    "def pick(field, locations, prob):\n",
    "    x,y = locations\n",
    "    if abs(field[x,y]) != float(\"inf\"):\n",
    "        field[x,y] = abs(field[x,y])\n",
    "        if field[x, y] == 9:\n",
    "            warn(\"Mine hit\")\n",
    "    elif field[x, y] == -float(\"inf\"):\n",
    "        for i in range(-1, 2):\n",
    "            for j in range(-1, 2):\n",
    "                pick(field, (x+i, y+j), prob)\n",
    "    prob[np.logical_and(minefield > 0, minefield < float(\"inf\"))] = 0\n",
    "\n",
    "def quickPick(field):\n",
    "    \n"
   ],
   "outputs": [
    {
     "output_type": "stream",
     "name": "stdout",
     "text": [
      "(1, 3)\n"
     ]
    }
   ],
   "metadata": {}
  },
  {
   "cell_type": "code",
   "execution_count": 91,
   "source": [
    "float(\"inf\")-float(\"inf\") < float(\"inf\")"
   ],
   "outputs": [
    {
     "output_type": "execute_result",
     "data": {
      "text/plain": [
       "False"
      ]
     },
     "metadata": {},
     "execution_count": 91
    }
   ],
   "metadata": {}
  }
 ],
 "metadata": {
  "orig_nbformat": 4,
  "language_info": {
   "name": "python",
   "version": "3.9.5",
   "mimetype": "text/x-python",
   "codemirror_mode": {
    "name": "ipython",
    "version": 3
   },
   "pygments_lexer": "ipython3",
   "nbconvert_exporter": "python",
   "file_extension": ".py"
  },
  "kernelspec": {
   "name": "python3",
   "display_name": "Python 3.9.5 64-bit"
  },
  "interpreter": {
   "hash": "36cf16204b8548560b1c020c4e8fb5b57f0e4c58016f52f2d4be01e192833930"
  }
 },
 "nbformat": 4,
 "nbformat_minor": 2
}