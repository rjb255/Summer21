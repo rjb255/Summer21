{
    "cells": [
        {
            "cell_type": "markdown",
            "source": [
                "<h1>Cool Maths</h1>"
            ],
            "metadata": {}
        },
        {
            "cell_type": "markdown",
            "source": [
                "<h2>Local Expensive Min</h2>"
            ],
            "metadata": {}
        },
        {
            "cell_type": "code",
            "execution_count": 108,
            "source": [
                "import numpy as np\n",
                "import matplotlib as mlt\n",
                "import matplotlib.pyplot as plt\n",
                "from matplotlib import gridspec\n",
                "import pprint\n",
                "import asyncio\n",
                "import scipy\n",
                "import math\n",
                "\n",
                "from scipy import optimize as opt\n",
                "\n",
                "def f(x):\n",
                "    return x**2\n",
                "\n",
                "async def slow(x):\n",
                "    await asyncio.sleep(1)\n",
                "    return f(x)\n",
                "\n",
                "limits = np.array([-10, 10])\n",
                "\n"
            ],
            "outputs": [],
            "metadata": {}
        },
        {
            "cell_type": "code",
            "execution_count": 121,
            "source": [
                "x = np.linspace(*limits, 50)\n",
                "graphic = plt.figure(figsize = (2, 2))\n",
                "gs = gridspec.GridSpec(2, 2)\n",
                "axs = [plt.subplot(gs[0, 0]), plt.subplot(gs[0, 1]), plt.subplot(gs[1, 0:])]\n",
                "axs[0].plot(x, f(x))\n",
                "\n",
                "X = limits\n",
                "Y = await slow(limits)\n",
                "for i in range(10):\n",
                "    axs[1].plot(X, Y, 'b+')\n",
                "    guessed = np.polyfit(X, Y, len(X) - 1)\n",
                "    fit = lambda x: sum([x**n * guessed[-(n+1)] for n in range(len(guessed))])\n",
                "    axs[1].plot(x, fit(x))\n",
                "    Xmin = opt.fmin(fit, sum(limits)/2, disp = 0)\n",
                "    Xmax = -opt.fmin(lambda x: -fit(x), sum(limits)/2, disp=0)\n",
                "    if Xmax == Xmin:\n",
                "        probY = np.ones_like(x[1:-1])\n",
                "    else:\n",
                "        probY = fit(x[1:-1]) / (Xmax - Xmin)\n",
                "    probY = np.interp(probY, (0, 1), (0.1, 10))\n",
                "\n",
                "    i = 0\n",
                "    d = []\n",
                "    for point in x[1:-1]:\n",
                "        if point > X[i+1]:\n",
                "            i += 1\n",
                "        d.append(min(point - X[i], X[i+1] - point))\n",
                "\n",
                "    d = np.interp(d, (min(d), max(d)), (0, 100))\n",
                "    probability = d*probY\n",
                "    probability /= sum(probability)\n",
                "    axs[2].plot(x[1:-1], probability)\n",
                "    nxt = np.random.rand()\n",
                "    for i, p in enumerate(probability):\n",
                "        nxt -= p\n",
                "        if nxt < 0: break\n",
                "    for j in range(len(X)):\n",
                "        if x[i] > X[j]:\n",
                "            X = np.insert(X, j+1, x[i])\n",
                "            Y = np.insert(Y, j+1, await slow(x[i]))\n",
                "            break\n",
                "\n",
                "print(f\"Guess = {opt.fmin(fit, sum(limits)/2, disp = 0)}\")\n",
                "print(f\"Real = {opt.fmin(f, sum(limits)/2, disp = 0)}\")\n"
            ],
            "outputs": [
                {
                    "output_type": "stream",
                    "name": "stdout",
                    "text": [
                        "Guess = [0.]\n",
                        "Real = [0.]\n"
                    ]
                },
                {
                    "output_type": "display_data",
                    "data": {
                        "text/plain": [
                            "<Figure size 144x144 with 3 Axes>"
                        ],
                        "image/png": "[encoded data removed]"
                    },
                    "metadata": {
                        "needs_background": "light"
                    }
                }
            ],
            "metadata": {}
        },
        {
            "cell_type": "code",
            "execution_count": 88,
            "source": [
                "X"
            ],
            "outputs": [
                {
                    "output_type": "execute_result",
                    "data": {
                        "text/plain": [
                            "array([-10,   0,  10])"
                        ]
                    },
                    "metadata": {},
                    "execution_count": 88
                }
            ],
            "metadata": {}
        }
    ],
    "metadata": {
        "orig_nbformat": 4,
        "language_info": {
            "name": "python"
        }
    },
    "nbformat": 4,
    "nbformat_minor": 2
}