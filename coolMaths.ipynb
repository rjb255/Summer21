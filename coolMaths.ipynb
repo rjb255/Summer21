{
    "cells": [
        {
            "cell_type": "markdown",
            "source": [
                "<h1>Cool Maths</h1>"
            ],
            "metadata": {}
        },
        {
            "cell_type": "markdown",
            "source": [
                "<h2>Local Expensive Min</h2>"
            ],
            "metadata": {}
        },
        {
            "cell_type": "code",
            "execution_count": 12,
            "source": [
                "import numpy as np\n",
                "import matplotlib as mlt\n",
                "import matplotlib.pyplot as plt\n",
                "from matplotlib import gridspec\n",
                "import pprint\n",
                "import asyncio\n",
                "import scipy\n",
                "import math\n",
                "\n",
                "%reload_ext blackcellmagic\n",
                "\n",
                "from scipy import optimize as opt\n",
                "\n",
                "def f(x):\n",
                "    return np.exp((x+6)*(x-2)*(x+15)/1000)**2 - x\n",
                "\n",
                "async def slow(x):\n",
                "    await asyncio.sleep(1)\n",
                "    return f(x)\n",
                "\n",
                "limits = np.array([0, 6])\n",
                "\n"
            ],
            "outputs": [],
            "metadata": {}
        },
        {
            "cell_type": "code",
            "execution_count": 17,
            "source": [
                "x = np.linspace(*limits, 50)\n",
                "\n",
                "X = limits\n",
                "Y = await slow(limits)\n",
                "for i in range(10):\n",
                "    guessed = np.polyfit(X, Y, len(X) - 1)\n",
                "    fit = lambda x: sum([x ** n * guessed[-(n + 1)] for n in range(len(guessed))])\n",
                "    Xmin = opt.fmin(fit, sum(limits) / 2, disp=0)\n",
                "    Xmax = -opt.fmin(lambda x: -fit(x), sum(limits) / 2, disp=0)\n",
                "    if Xmax == Xmin:\n",
                "        probY = np.ones_like(x[1:-1])\n",
                "    else:\n",
                "        probY = fit(x[1:-1]) / (Xmax - Xmin)\n",
                "    probY = np.interp(probY, (0, 1), (0.1, 10))\n",
                "\n",
                "    i = 0\n",
                "    d = []\n",
                "    for point in x[1:-1]:\n",
                "        if point > X[i + 1]:\n",
                "            i += 1\n",
                "        d.append(min(point - X[i], X[i + 1] - point))\n",
                "\n",
                "    d = np.interp(d, (min(d), max(d)), (0, 100))\n",
                "    probability = d * probY\n",
                "    probability /= sum(probability)\n",
                "    nxt = np.random.rand()\n",
                "    for i, p in enumerate(probability):\n",
                "        nxt -= p\n",
                "        if nxt < 0:\n",
                "            break\n",
                "    for j in range(len(X)):\n",
                "        if x[i] > X[j]:\n",
                "            X = np.insert(X, j + 1, x[i])\n",
                "            Y = np.insert(Y, j + 1, await slow(x[i]))\n",
                "            break\n",
                "\n",
                "print(f\"Guess = {opt.fminbound(fit, *limits, disp = 0)}\")\n",
                "print(f\"Real = {opt.fminbound(f, *limits, disp = 0)}\")"
            ],
            "outputs": [
                {
                    "output_type": "stream",
                    "name": "stderr",
                    "text": [
                        "/home/rjb255/.local/lib/python3.9/site-packages/IPython/core/interactiveshell.py:3439: RankWarning: Polyfit may be poorly conditioned\n",
                        "  await eval(code_obj, self.user_global_ns, self.user_ns)\n",
                        "/home/rjb255/.local/lib/python3.9/site-packages/IPython/core/interactiveshell.py:3439: RankWarning: Polyfit may be poorly conditioned\n",
                        "  await eval(code_obj, self.user_global_ns, self.user_ns)\n",
                        "/home/rjb255/.local/lib/python3.9/site-packages/IPython/core/interactiveshell.py:3439: RankWarning: Polyfit may be poorly conditioned\n",
                        "  await eval(code_obj, self.user_global_ns, self.user_ns)\n",
                        "/home/rjb255/.local/lib/python3.9/site-packages/IPython/core/interactiveshell.py:3439: RankWarning: Polyfit may be poorly conditioned\n",
                        "  await eval(code_obj, self.user_global_ns, self.user_ns)\n",
                        "/home/rjb255/.local/lib/python3.9/site-packages/IPython/core/interactiveshell.py:3439: RankWarning: Polyfit may be poorly conditioned\n",
                        "  await eval(code_obj, self.user_global_ns, self.user_ns)\n",
                        "/home/rjb255/.local/lib/python3.9/site-packages/IPython/core/interactiveshell.py:3439: RankWarning: Polyfit may be poorly conditioned\n",
                        "  await eval(code_obj, self.user_global_ns, self.user_ns)\n",
                        "/home/rjb255/.local/lib/python3.9/site-packages/IPython/core/interactiveshell.py:3439: RankWarning: Polyfit may be poorly conditioned\n",
                        "  await eval(code_obj, self.user_global_ns, self.user_ns)\n",
                        "/home/rjb255/.local/lib/python3.9/site-packages/IPython/core/interactiveshell.py:3439: RankWarning: Polyfit may be poorly conditioned\n",
                        "  await eval(code_obj, self.user_global_ns, self.user_ns)\n"
                    ]
                },
                {
                    "output_type": "stream",
                    "name": "stdout",
                    "text": [
                        "Guess = 2.8900325434989025\n",
                        "Real = 3.9207947486967827\n"
                    ]
                }
            ],
            "metadata": {}
        },
        {
            "cell_type": "code",
            "execution_count": null,
            "source": [],
            "outputs": [],
            "metadata": {}
        },
        {
            "cell_type": "markdown",
            "source": [
                "x"
            ],
            "metadata": {}
        }
    ],
    "metadata": {
        "orig_nbformat": 4,
        "language_info": {
            "name": "python"
        }
    },
    "nbformat": 4,
    "nbformat_minor": 2
}