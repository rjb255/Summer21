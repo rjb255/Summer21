{
 "metadata": {
  "language_info": {
   "codemirror_mode": {
    "name": "ipython",
    "version": 3
   },
   "file_extension": ".py",
   "mimetype": "text/x-python",
   "name": "python",
   "nbconvert_exporter": "python",
   "pygments_lexer": "ipython3",
   "version": "3.8.2"
  },
  "orig_nbformat": 2,
  "kernelspec": {
   "name": "python382jvsc74a57bd02db524e06e9f5f4ffedc911c917cb75e12dbc923643829bf417064a77eb14d37",
   "display_name": "Python 3.8.2 64-bit"
  },
  "metadata": {
   "interpreter": {
    "hash": "2db524e06e9f5f4ffedc911c917cb75e12dbc923643829bf417064a77eb14d37"
   }
  }
 },
 "nbformat": 4,
 "nbformat_minor": 2,
 "cells": [
  {
   "source": [
    "<h1> Libraries </h1>"
   ],
   "cell_type": "markdown",
   "metadata": {}
  },
  {
   "cell_type": "code",
   "execution_count": 5,
   "metadata": {},
   "outputs": [],
   "source": [
    "import numpy as np\n",
    "import math\n",
    "import matplotlib as mpl\n"
   ]
  },
  {
   "cell_type": "code",
   "execution_count": 8,
   "metadata": {},
   "outputs": [],
   "source": [
    "class reactor:\n",
    "    # Assume Equilibrium is Reached and Isothermal\n",
    "    # Composition is input composition: [c8, c9, c10, c16, ic8, ic9, ic10, ic16, cc8, cc9, cc10, unreactable]\n",
    "    # Temp is temperature in degc, t is time in weeks\n",
    "    A = np.array([[1e12, 3e12, 5e12, 7e12, 2.54e12, 4.77e12, 2.32e12],\n",
    "                  [3.3e11, 5.5e11, 4.64e11, 1.1e10, 5e11, 5e11, 2.31e11]])\n",
    "    Chi = [8.51e-3, 2.74e-3]\n",
    "    Tref = 384.5\n",
    "\n",
    "    def react(**kwargs):\n",
    "        comp = kwargs[\"compositon\"]\n",
    "        T = kwargs[\"temp\"]\n",
    "        t = kwargs[\"time\"]\n",
    "        phi = 1 + Chi[0] * (T - Tref) + Chi[1] * t\n",
    "        compOut = 2"
   ]
  }
 ]
}