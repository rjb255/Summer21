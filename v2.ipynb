{
 "metadata": {
  "language_info": {
   "codemirror_mode": {
    "name": "ipython",
    "version": 3
   },
   "file_extension": ".py",
   "mimetype": "text/x-python",
   "name": "python",
   "nbconvert_exporter": "python",
   "pygments_lexer": "ipython3",
   "version": "3.8.2"
  },
  "orig_nbformat": 2,
  "kernelspec": {
   "name": "python382jvsc74a57bd02db524e06e9f5f4ffedc911c917cb75e12dbc923643829bf417064a77eb14d37",
   "display_name": "Python 3.8.2 64-bit"
  },
  "metadata": {
   "interpreter": {
    "hash": "2db524e06e9f5f4ffedc911c917cb75e12dbc923643829bf417064a77eb14d37"
   }
  }
 },
 "nbformat": 4,
 "nbformat_minor": 2,
 "cells": [
  {
   "source": [
    "<title> General </title>\n",
    "<h1> General Control system </h1>\n",
    "<h2> Libraries </h2>"
   ],
   "cell_type": "markdown",
   "metadata": {}
  },
  {
   "source": [
    "import numpy as np\n",
    "import math\n",
    "import matplotlib as mlt"
   ],
   "cell_type": "code",
   "metadata": {},
   "execution_count": 1,
   "outputs": []
  },
  {
   "source": [
    "<h2> One disturbance, one set point, one target, deviation from steady state </h2>\n",
    "<h3> Functions </h3>"
   ],
   "cell_type": "markdown",
   "metadata": {}
  },
  {
   "cell_type": "code",
   "execution_count": 3,
   "metadata": {},
   "outputs": [],
   "source": [
    "class frst:    \n",
    "    def Gp(s):\n",
    "        ## Process transfer function\n",
    "        return 1\n",
    "\n",
    "    def Gd(s):\n",
    "        ## Process disturbance function\n",
    "        return 1\n",
    "\n",
    "    def Gc(s):\n",
    "        ## Process control function\n",
    "        return 1\n",
    "\n",
    "    def Gm(s):\n",
    "        ## Process measurement function\n",
    "        return 1"
   ]
  },
  {
   "source": [
    "<h3> Examples </h3>"
   ],
   "cell_type": "markdown",
   "metadata": {}
  },
  {
   "cell_type": "code",
   "execution_count": null,
   "metadata": {},
   "outputs": [],
   "source": []
  }
 ]
}